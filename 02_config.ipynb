{
 "cells": [
  {
   "cell_type": "code",
   "execution_count": null,
   "metadata": {},
   "outputs": [],
   "source": [
    "import pytorch_lightning as pl \n",
    "from torch.utils.data import Dataset, DataLoader\n",
    "from skimage.io import imread\n",
    "import torch \n",
    "import pandas as pd\n",
    "from glob import glob\n",
    "\n",
    "class MSNITDataset(Dataset):\n",
    "    def __init__(self, images, labels):\n",
    "        self.images = images\n",
    "        self.labels = labels\n",
    "    def __len__(self):\n",
    "        return len(self.images)\n",
    "    def __getitem__(self, idx):\n",
    "        img = imread(self.images[idx])\n",
    "        return torch.from_numpy(img), self.labels[idx]\n",
    "\n",
    "class MNISTDataModule(pl.LightningDataModule):\n",
    "    def __init__(self, path, batch_size):\n",
    "        super().__init__()\n",
    "        self.path = path\n",
    "        self.batch_size = batch_size\n",
    "    def generate_df(self, l1, l2):\n",
    "        return pd.DataFrame({\n",
    "            'image': l1 + l2, \n",
    "            'label': [1] * len(l1) + [0] * len(l2)\n",
    "        })\n",
    "    def setup(self, stage = None):\n",
    "        train_3 = glob(str(self.path / 'train' / '3' / '*.png'))\n",
    "        train_no3 = glob(str(self.path / 'train' / 'no3' / '*.png'))\n",
    "        self.train_df = self.generate_df(train_3, train_no3)\n",
    "        test_3 = glob(str(self.path / 'test' / '3' / '*.png'))\n",
    "        test_no3 = glob(str(self.path / 'test' / 'no3' / '*.png'))\n",
    "        self.test_df = self.generate_df(test_3, test_no3)\n",
    "        self.train_ds = MSNITDataset(self.train_df.image.values, self.train_df.label.values)\n",
    "        self.test_ds = MSNITDataset(self.test_df.image.values, self.test_df.label.values)\n",
    "    def train_dataloader(self):\n",
    "        return DataLoader(self.train_ds, shuffle=True, batch_size=self.batch_size)\n",
    "    def val_dataloader(self, batch_size=None, shuffle=False):\n",
    "        return DataLoader(\n",
    "            self.test_ds, \n",
    "            batch_size=self.batch_size if batch_size is None else batch_size,\n",
    "            shuffle=shuffle\n",
    "        )"
   ]
  },
  {
   "cell_type": "code",
   "execution_count": null,
   "metadata": {},
   "outputs": [],
   "source": [
    "from pathlib import Path\n",
    "\n",
    "path = Path('dataset')\n",
    "\n",
    "dm = MNISTDataModule(path, batch_size=25)\n",
    "dm.setup()\n",
    "\n",
    "imgs, labels = next(iter(dm.train_dataloader()))\n",
    "\n",
    "imgs.shape, imgs.dtype, imgs.max(), imgs.min(), labels.shape"
   ]
  },
  {
   "cell_type": "code",
   "execution_count": null,
   "metadata": {},
   "outputs": [],
   "source": [
    "import matplotlib.pyplot as plt\n",
    "\n",
    "r, c = 5, 5 \n",
    "fig, axs = plt.subplots(r, c)\n",
    "imgs, labels = next(iter(dm.train_dataloader()))\n",
    "for i in range(r):\n",
    "    for j in range(c):\n",
    "        axs[i, j].imshow(imgs[i * c + j], cmap='gray')\n",
    "        axs[i, j].set_title(labels[i * c + j].item())\n",
    "        axs[i, j].axis('off')\n",
    "plt.tight_layout()\n",
    "plt.show()"
   ]
  },
  {
   "cell_type": "code",
   "execution_count": null,
   "metadata": {},
   "outputs": [],
   "source": [
    "import torch.nn as nn\n",
    "import torch.nn.functional as F\n",
    "\n",
    "\n",
    "class MNISTModule(pl.LightningModule):\n",
    "    def __init__(self):\n",
    "        super().__init__()\n",
    "        self.mlp = nn.Sequential(\n",
    "            nn.Linear(28 * 28, 100),\n",
    "            nn.ReLU(),\n",
    "            nn.Linear(100, 1)\n",
    "        )\n",
    "\n",
    "    def forward(self, x):\n",
    "        x = x.float() / 255 \n",
    "        return self.mlp(x.view(x.size(0), -1)).squeeze(-1)\n",
    "\n",
    "    def predict(self, x):\n",
    "        self.eval()\n",
    "        with torch.no_grad():\n",
    "            return torch.sigmoid(self(x))\n",
    "\n",
    "    def training_step(self, batch, batch_idx):\n",
    "        x, y = batch\n",
    "        y_hat = self(x)\n",
    "        loss = F.binary_cross_entropy_with_logits(y_hat, y.float())\n",
    "        preds = torch.sigmoid(y_hat) > 0.5\n",
    "        acc = (preds.long() == y).float().mean()\n",
    "        self.log('acc', acc, prog_bar=True)\n",
    "        return loss\n",
    "\n",
    "    def validation_step(self, batch, batch_idx):\n",
    "        x, y = batch\n",
    "        y_hat = self(x)\n",
    "        loss = F.binary_cross_entropy_with_logits(y_hat, y.float())\n",
    "        preds = torch.sigmoid(y_hat) > 0.5\n",
    "        acc = (preds.long() == y).float().mean()\n",
    "        self.log('val_loss', loss, prog_bar=True)\n",
    "        self.log('val_acc', acc, prog_bar=True)\n",
    "\n",
    "    def configure_optimizers(self):\n",
    "        return torch.optim.Adam(self.parameters())"
   ]
  },
  {
   "cell_type": "code",
   "execution_count": null,
   "metadata": {},
   "outputs": [],
   "source": [
    "module = MNISTModule()\n",
    "module"
   ]
  },
  {
   "cell_type": "code",
   "execution_count": null,
   "metadata": {},
   "outputs": [],
   "source": [
    "output = module(imgs)\n",
    "output.shape"
   ]
  },
  {
   "cell_type": "code",
   "execution_count": null,
   "metadata": {},
   "outputs": [],
   "source": [
    "dm = MNISTDataModule(path, batch_size=25)\n",
    "module = MNISTModule()\n",
    "trainer = pl.Trainer(\n",
    "    max_epochs=10,\n",
    "    logger=None,\n",
    "    enable_checkpointing=False,\n",
    "    # overfit_batches=1,\n",
    ")\n",
    "trainer.fit(module, dm)"
   ]
  },
  {
   "cell_type": "code",
   "execution_count": null,
   "metadata": {},
   "outputs": [],
   "source": [
    "r, c = 5, 5 \n",
    "fig, axs = plt.subplots(r, c)\n",
    "imgs, labels = next(iter(dm.val_dataloader(25, True)))\n",
    "preds = module.predict(imgs) > 0.5\n",
    "for i in range(r):\n",
    "    for j in range(c):\n",
    "        axs[i, j].imshow(imgs[i * c + j], cmap='gray')\n",
    "        label = labels[i * c + j].item()\n",
    "        pred = preds[i * c + j].long().item()\n",
    "        axs[i, j].set_title(f'{label}/{pred}', color = 'green' if label == pred else 'red')\n",
    "        axs[i, j].axis('off')\n",
    "plt.tight_layout()\n",
    "plt.show()"
   ]
  },
  {
   "cell_type": "code",
   "execution_count": null,
   "metadata": {},
   "outputs": [],
   "source": [
    "\"\"\"\n",
    "Folder structure:\n",
    "\n",
    "main.py: Trianing code\n",
    "config.yml: Training config\n",
    "src: Pytorch Lightning code\n",
    "    dm.py: LightningDataModule.\n",
    "    module.py: LightningModule.\n",
    "    utils.py: util funcs\n",
    "\n",
    "\"\"\""
   ]
  }
 ],
 "metadata": {
  "kernelspec": {
   "display_name": "Python 3.10.4 ('venv': venv)",
   "language": "python",
   "name": "python3"
  },
  "language_info": {
   "codemirror_mode": {
    "name": "ipython",
    "version": 3
   },
   "file_extension": ".py",
   "mimetype": "text/x-python",
   "name": "python",
   "nbconvert_exporter": "python",
   "pygments_lexer": "ipython3",
   "version": "3.10.4"
  },
  "orig_nbformat": 4,
  "vscode": {
   "interpreter": {
    "hash": "446f2c25f8d3890a0c454a658a941dc96acd7ff126c35d9040e0238d696a4771"
   }
  }
 },
 "nbformat": 4,
 "nbformat_minor": 2
}
