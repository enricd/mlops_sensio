{
 "cells": [
  {
   "cell_type": "code",
   "execution_count": null,
   "metadata": {},
   "outputs": [],
   "source": [
    "# Loading the desired already trained checkpoint\n",
    "\n",
    "from src import *\n",
    "\n",
    "module = MNISTModule.load_from_checkpoint('checkpoints/006-val_loss=0.14715-epoch=7.ckpt')\n",
    "module.mlp"
   ]
  },
  {
   "cell_type": "code",
   "execution_count": null,
   "metadata": {},
   "outputs": [],
   "source": [
    "# Evaluate the model before exporting it\n",
    "\n",
    "import torch \n",
    "\n",
    "dm = MNISTDataModule(**module.hparams['datamodule'])\n",
    "dm.setup()\n",
    "\n",
    "def torch_eval():\n",
    "    module.eval()\n",
    "    with torch.no_grad():\n",
    "        preds, labels = torch.tensor([]), torch.tensor([])\n",
    "        for imgs, _labels in dm.val_dataloader():\n",
    "            outputs = module.predict(imgs) > 0.5\n",
    "            preds = torch.cat([preds, outputs.cpu().long()])\n",
    "            labels = torch.cat([labels, _labels])\n",
    "\n",
    "    acc = (preds == labels).float().mean()\n",
    "    return acc.item()\n",
    "\n",
    "torch_eval()"
   ]
  },
  {
   "cell_type": "code",
   "execution_count": null,
   "metadata": {},
   "outputs": [],
   "source": [
    "# Pytorch Lightning makes it easy to export the model to ONNX format\n",
    "\n",
    "input_sample = torch.randint(0, 255, (1, 28, 28), dtype=torch.uint8)\n",
    "module.to_onnx(\n",
    "    'models/binary_classifier_3.onnx', # nombre del modelo a guardar\n",
    "    input_sample, # ejemplo de entrada\n",
    "    export_params=True, # exportar los parametros del modelo\n",
    "    opset_version=11, # en función de las ops en el modelo, se puede cambiar el opset\n",
    "    input_names = ['input'], # nombre de la entrada\tpara usar en producción\n",
    "    output_names = ['output'],  # nombre de la salida para usar en producción\n",
    "    dynamic_axes={  # para poder tener diferentes batch sizes\n",
    "        'input' : {0 : 'batch_size'},\n",
    "        'output' : {0 : 'batch_size'},\n",
    "    },\n",
    ")"
   ]
  },
  {
   "cell_type": "code",
   "execution_count": null,
   "metadata": {},
   "outputs": [],
   "source": [
    "# ONNXRuntime allows to train the model on Python and then make it run in a different environment\n",
    "# like JS, Android, iOS, etc.\n",
    "# It can be installed with $ pip install onnxruntime\n",
    "# It's also lighter than Pytorch or TF so it's easier to deploy within an image for example\n",
    "\n",
    "import onnxruntime as ort \n",
    "import numpy as np\n",
    "\n",
    "ort_session = ort.InferenceSession('models/binary_classifier_3.onnx')\n",
    "\n",
    "ort_inputs = {\n",
    "    \"input\": np.random.randint(0, 255, (10, 28, 28), dtype=np.uint8),\n",
    "}\n",
    "\n",
    "ort_output = ort_session.run(['output'], ort_inputs)\n",
    "ort_output[0].shape"
   ]
  },
  {
   "cell_type": "code",
   "execution_count": null,
   "metadata": {},
   "outputs": [],
   "source": [
    "# Validating the onnx model\n",
    "\n",
    "def sigmoid(x):\n",
    "    return 1 / (1 + np.exp(-x))\n",
    "    \n",
    "def onnx_eval():\n",
    "    with torch.no_grad():\n",
    "        preds, labels = [], torch.tensor([])\n",
    "        for imgs, _labels in dm.val_dataloader():\n",
    "            ort_inputs = {\n",
    "                \"input\": imgs.numpy(),\n",
    "            }\n",
    "            ort_output = ort_session.run(['output'], ort_inputs)[0]\n",
    "            outputs = sigmoid(ort_output) > 0.5\n",
    "            preds += outputs.astype(int).tolist()\n",
    "            labels = torch.cat([labels, _labels])\n",
    "    acc = (np.array(preds) == labels.numpy()).astype(float).mean()\n",
    "    return acc \n",
    "\n",
    "onnx_eval()"
   ]
  },
  {
   "cell_type": "code",
   "execution_count": null,
   "metadata": {},
   "outputs": [],
   "source": [
    "# Versioning models\n",
    "\n",
    "# $ dvc add models\n",
    "# $ dvc push\n",
    "# $ dvc pull models.dvc\n",
    "\n",
    "# $ git add .\n",
    "# $ git commit -m \"new model\"\n",
    "# $ git push\n",
    "# $ git tag -a v3 -m \"version 3\"\n",
    "# $ git push origin --tags"
   ]
  }
 ],
 "metadata": {
  "kernelspec": {
   "display_name": "Python 3.10.4 ('venv': venv)",
   "language": "python",
   "name": "python3"
  },
  "language_info": {
   "name": "python",
   "version": "3.10.4"
  },
  "orig_nbformat": 4,
  "vscode": {
   "interpreter": {
    "hash": "446f2c25f8d3890a0c454a658a941dc96acd7ff126c35d9040e0238d696a4771"
   }
  }
 },
 "nbformat": 4,
 "nbformat_minor": 2
}
